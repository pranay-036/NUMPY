{
  "nbformat": 4,
  "nbformat_minor": 0,
  "metadata": {
    "colab": {
      "provenance": []
    },
    "kernelspec": {
      "name": "python3",
      "display_name": "Python 3"
    },
    "language_info": {
      "name": "python"
    }
  },
  "cells": [
    {
      "cell_type": "code",
      "execution_count": null,
      "metadata": {
        "id": "tI835VuUFDUm"
      },
      "outputs": [],
      "source": []
    },
    {
      "cell_type": "code",
      "source": [
        "#numpy tutorial lab session 4\n",
        "#NumPy, short for Numerical Python, is one of the most important foundational pack‐\n",
        "#ages for numerical computing in Python. Most computational packages providing\n",
        "#scientific functionality use NumPy’s array objects as the lingua franca for data\n",
        "#exchange."
      ],
      "metadata": {
        "id": "JQ4J3dDXFMWn"
      },
      "execution_count": null,
      "outputs": []
    },
    {
      "cell_type": "code",
      "source": [
        "#creating numpy array\n",
        "import numpy as np\n",
        "arr = np.array((1, 2, 3, 4, 5))\n",
        "print(arr)\n",
        "#2d array\n",
        "\n",
        "arr1 = np.array(((1, 2, 3), (4, 5, 6)))\n",
        "print(arr1)\n",
        "\n",
        "#3d array\n",
        "arr2 = np.array([[[1, 2, 3], [4, 5, 6]], [[1, 2, 3], [4, 5, 6]]])\n",
        "print(arr2)"
      ],
      "metadata": {
        "colab": {
          "base_uri": "https://localhost:8080/",
          "height": 0
        },
        "id": "VjHNCVJXFT4n",
        "outputId": "dad41de5-b13f-4fda-d491-995b8783abae"
      },
      "execution_count": 5,
      "outputs": [
        {
          "output_type": "stream",
          "name": "stdout",
          "text": [
            "[1 2 3 4 5]\n",
            "[[1 2 3]\n",
            " [4 5 6]]\n",
            "[[[1 2 3]\n",
            "  [4 5 6]]\n",
            "\n",
            " [[1 2 3]\n",
            "  [4 5 6]]]\n"
          ]
        }
      ]
    },
    {
      "cell_type": "code",
      "source": [
        "#array indexing\n",
        "print(arr1[0])\n",
        "print(arr1[1])\n",
        "print(arr1[0, 1])\n",
        "print(arr1[1, 2])"
      ],
      "metadata": {
        "colab": {
          "base_uri": "https://localhost:8080/",
          "height": 0
        },
        "id": "IOw9nUujHHoR",
        "outputId": "784fdede-7a12-4864-e725-e31ec96bd771"
      },
      "execution_count": 9,
      "outputs": [
        {
          "output_type": "stream",
          "name": "stdout",
          "text": [
            "[1 2 3]\n",
            "[4 5 6]\n",
            "2\n",
            "6\n"
          ]
        }
      ]
    },
    {
      "cell_type": "code",
      "source": [
        "#numpy array slicing\n",
        "print(arr[1:5])\n",
        "print(arr[4:])\n",
        "print(arr[:4])\n",
        "print(arr[-3:-1])\n",
        "print(arr[1:5:2])\n",
        "print(arr[::2])"
      ],
      "metadata": {
        "colab": {
          "base_uri": "https://localhost:8080/",
          "height": 0
        },
        "id": "Vtj4JFDZH5vw",
        "outputId": "729566b4-f995-4846-f92b-c2cc2e768cfb"
      },
      "execution_count": 10,
      "outputs": [
        {
          "output_type": "stream",
          "name": "stdout",
          "text": [
            "[2 3 4 5]\n",
            "[5]\n",
            "[1 2 3 4]\n",
            "[3 4]\n",
            "[2 4]\n",
            "[1 3 5]\n"
          ]
        }
      ]
    },
    {
      "cell_type": "code",
      "source": [],
      "metadata": {
        "id": "fzO_XHkJIfaw"
      },
      "execution_count": null,
      "outputs": []
    },
    {
      "cell_type": "markdown",
      "source": [
        "data types in python numpy arrays\n",
        "\n",
        "\n",
        "\n",
        "\n",
        "strings - used to represent text data, the text is given under quote marks. e.g. \"ABCD\"\n",
        "integer - used to represent integer numbers. e.g. -1, -2, -3\n",
        "float - used to represent real numbers. e.g. 1.2, 42.42\n",
        "boolean - used to represent True or False.\n",
        "complex - used to represent complex numbers. e.g. 1.0 + 2.0j, 1.5 + 2.5j\n",
        "\n",
        "\n",
        "\n",
        "\n"
      ],
      "metadata": {
        "id": "MYRkm086IViw"
      }
    },
    {
      "cell_type": "code",
      "source": [
        "#data types in numpy\n",
        "print(arr.dtype)\n",
        "print(arr1.dtype)\n",
        "arr3 = np.array(('satwik','pranay','hiteshu'))\n",
        "\n",
        "print(arr3.dtype)\n",
        "newarr = arr.astype(int)\n",
        "\n",
        "print(newarr)\n",
        "print(newarr.dtype)\n"
      ],
      "metadata": {
        "colab": {
          "base_uri": "https://localhost:8080/",
          "height": 0
        },
        "id": "2E0h79r9IoRw",
        "outputId": "f8a7564c-edd6-4028-cefa-a927cbadb2a8"
      },
      "execution_count": 18,
      "outputs": [
        {
          "output_type": "stream",
          "name": "stdout",
          "text": [
            "int64\n",
            "int64\n",
            "<U7\n",
            "[1 2 3 4 5]\n",
            "int64\n"
          ]
        }
      ]
    },
    {
      "cell_type": "code",
      "source": [
        "\n",
        "arr4 = np.array([1, 2, 3, 4, 5])\n",
        "\n",
        "x = arr4.copy()\n",
        "y = arr4.view()\n",
        "\n",
        "print(x.base)\n",
        "print(y.base)"
      ],
      "metadata": {
        "colab": {
          "base_uri": "https://localhost:8080/",
          "height": 0
        },
        "id": "G98XUf2KJ2LR",
        "outputId": "1420ae47-b911-48a4-8a78-282ac4bbec50"
      },
      "execution_count": 19,
      "outputs": [
        {
          "output_type": "stream",
          "name": "stdout",
          "text": [
            "None\n",
            "[1 2 3 4 5]\n"
          ]
        }
      ]
    },
    {
      "cell_type": "code",
      "source": [
        "#shape of array\n",
        "print(arr.shape)\n",
        "print(arr1.shape)\n",
        "print(arr2.shape)"
      ],
      "metadata": {
        "colab": {
          "base_uri": "https://localhost:8080/",
          "height": 0
        },
        "id": "XjLtvNrnKWIg",
        "outputId": "381f2cc3-f9a7-48b1-ce5a-f017fa283506"
      },
      "execution_count": 20,
      "outputs": [
        {
          "output_type": "stream",
          "name": "stdout",
          "text": [
            "(5,)\n",
            "(2, 3)\n",
            "(2, 2, 3)\n"
          ]
        }
      ]
    },
    {
      "cell_type": "code",
      "source": [
        "#concatinating an numpy array\n",
        "arr5 = np.array([1, 2, 3])\n",
        "\n",
        "arr6 = np.array([4, 5, 6])\n",
        "\n",
        "arrr = np.concatenate((arr5, arr6))\n",
        "\n",
        "print(arrr)"
      ],
      "metadata": {
        "colab": {
          "base_uri": "https://localhost:8080/",
          "height": 0
        },
        "id": "aFFG8IhJLj3B",
        "outputId": "fb4037fe-f6be-417a-94cb-b4bbd232bac8"
      },
      "execution_count": 22,
      "outputs": [
        {
          "output_type": "stream",
          "name": "stdout",
          "text": [
            "[1 2 3 4 5 6]\n"
          ]
        }
      ]
    },
    {
      "cell_type": "code",
      "source": [
        "#searching in an numpy array\n",
        "import numpy as np\n",
        "\n",
        "arr = np.array([1, 2, 3, 4, 5, 4, 4])\n",
        "\n",
        "x = np.where(arr == 4)\n",
        "\n",
        "print(x)"
      ],
      "metadata": {
        "colab": {
          "base_uri": "https://localhost:8080/",
          "height": 0
        },
        "id": "FSd3eTqpLu5i",
        "outputId": "6ce871a7-f5be-4f7e-aa30-7d4dfcd42474"
      },
      "execution_count": 23,
      "outputs": [
        {
          "output_type": "stream",
          "name": "stdout",
          "text": [
            "(array([3, 5, 6]),)\n"
          ]
        }
      ]
    },
    {
      "cell_type": "code",
      "source": [
        "#sorting in an  numpy array\n",
        "import numpy as np\n",
        "\n",
        "arr = np.array(['banana', 'cherry', 'apple'])\n",
        "\n",
        "print(np.sort(arr))\n"
      ],
      "metadata": {
        "colab": {
          "base_uri": "https://localhost:8080/",
          "height": 0
        },
        "id": "ftpnlJD_MG6p",
        "outputId": "b119dc9f-1a76-4cd9-dd08-b701766c12f2"
      },
      "execution_count": 24,
      "outputs": [
        {
          "output_type": "stream",
          "name": "stdout",
          "text": [
            "['apple' 'banana' 'cherry']\n"
          ]
        }
      ]
    },
    {
      "cell_type": "code",
      "source": [
        "#numpy filtering\n",
        "import numpy as np\n",
        "\n",
        "arr = np.array([41, 42, 43, 44])\n",
        "\n",
        "x = [True, False, True, False]\n",
        "\n",
        "newarr = arr[x]\n",
        "\n",
        "print(newarr)"
      ],
      "metadata": {
        "colab": {
          "base_uri": "https://localhost:8080/",
          "height": 0
        },
        "id": "9F3jQiSpMQPo",
        "outputId": "ab8c19d8-3c8b-4a6b-e3d2-b7ca0b0e0827"
      },
      "execution_count": 25,
      "outputs": [
        {
          "output_type": "stream",
          "name": "stdout",
          "text": [
            "[41 43]\n"
          ]
        }
      ]
    },
    {
      "cell_type": "markdown",
      "source": [
        "**SUMMARY OF NUMPY ARRAYS**\n",
        "\n",
        "\n",
        "*  Creating arrays: Using np.array() for 1D, 2D, and 3D arrays.\n",
        "* Indexing and slicing: Accessing specific elements and ranges within arrays.\n",
        "*Data types: Understanding and converting data types within arrays (e.g., integers, floats, strings).\n",
        "*Copying and viewing arrays: .copy() creates a new array while .view() provides a view of the original array.\n",
        "*Array shape: Using .shape to get the dimensions of an array.\n",
        "*Concatenating arrays: Combining arrays using np.concatenate().\n",
        "*Searching arrays: Finding elements with np.where().\n",
        "*Sorting arrays: Using np.sort() to order array elements.\n",
        "*Filtering arrays: Creating new arrays based on conditions.\n",
        "  \n"
      ],
      "metadata": {
        "id": "E_aNUsJnMe2r"
      }
    },
    {
      "cell_type": "markdown",
      "source": [
        "# STASTICAL FUNCTIONS USING  NUMPY\n",
        "NUMPY STAISTICAL FUNCTIONS ARE VERY HELPFUL TO MEASURE VARIOUS CENTRAL TENDENCIES\n",
        "LIKE\n",
        "* MEAN\n",
        "* MODE\n",
        "* MEDIAN\n",
        "* STANDARD DEVIATION\n",
        "* SUM"
      ],
      "metadata": {
        "id": "BNO1cdh8TzyC"
      }
    },
    {
      "cell_type": "code",
      "source": [
        "import numpy as np\n",
        "\n",
        "arr = np.array([1, 2, 3, 4 , 6 , 3 , 5,  4, 5])\n",
        "\n",
        "# Calculate the mean\n",
        "mean = np.mean(arr)\n",
        "print(f\"Mean: {mean}\")\n",
        "\n",
        "# Calculate the median\n",
        "median = np.median(arr)\n",
        "print(f\"Median: {median}\")\n",
        "\n",
        "# Calculate the mode\n",
        "unique, counts = np.unique(arr, return_counts=True)\n",
        "mode = unique[np.argmax(counts)]\n",
        "print(f\"Mode: {mode}\")\n",
        "\n",
        "# Calculate the standard deviation\n",
        "std = np.std(arr)\n",
        "print(f\"Standard Deviation: {std}\")\n",
        "\n",
        "# Calculate the sum\n",
        "sum = np.sum(arr)\n",
        "print(f\"Sum: {sum}\")"
      ],
      "metadata": {
        "colab": {
          "base_uri": "https://localhost:8080/",
          "height": 0
        },
        "id": "huf21d3WVDT6",
        "outputId": "11440d72-ca13-425e-b739-dd99c01662b7"
      },
      "execution_count": 26,
      "outputs": [
        {
          "output_type": "stream",
          "name": "stdout",
          "text": [
            "Mean: 3.6666666666666665\n",
            "Median: 4.0\n",
            "Mode: 3\n",
            "Standard Deviation: 1.4907119849998598\n",
            "Sum: 33\n"
          ]
        }
      ]
    },
    {
      "cell_type": "markdown",
      "source": [
        "# SUMMMARY OF STATISTICAL FUNCTIONS\n",
        "his code snippet demonstrates how to use NumPy functions to compute common summary statistics. You can execute this code in your Colab notebook to see the output.\n",
        "\n",
        "For grouping and aggregations, you might want to explore using libraries like Pandas, which builds upon NumPy and offers more advanced data manipulation features.\n"
      ],
      "metadata": {
        "id": "fh2rVTTHVjwa"
      }
    },
    {
      "cell_type": "markdown",
      "source": [
        "**DATA ANALYSIS USING NUMPY **\n"
      ],
      "metadata": {
        "id": "7FzHx5oHV0CR"
      }
    },
    {
      "cell_type": "code",
      "source": [
        "import numpy as np\n",
        "\n",
        "# Sample data (replace with your actual dataset)\n",
        "data = np.array([10, 12, 12, 13, 15, 12, 11, 10, 50, 12])\n",
        "\n",
        "# Calculate correlation (using a second array for example)\n",
        "data2 = np.array([20, 24, 24, 26, 30, 24, 22, 20, 100, 24])\n",
        "correlation = np.corrcoef(data, data2)[0, 1]\n",
        "print(f\"Correlation: {correlation}\")\n",
        "\n",
        "# Identify outliers (using IQR method)\n",
        "Q1 = np.percentile(data, 25)\n",
        "Q3 = np.percentile(data, 75)\n",
        "IQR = Q3 - Q1\n",
        "outliers = data[(data < (Q1 - 1.5 * IQR)) | (data > (Q3 + 1.5 * IQR))]\n",
        "print(f\"Outliers: {outliers}\")\n",
        "\n",
        "# Calculate percentiles\n",
        "percentile_50 = np.percentile(data, 50)\n",
        "print(f\"50th Percentile: {percentile_50}\")\n",
        "\n",
        "# NumPy's efficiency\n",
        "large_dataset = np.random.rand(1000000)  # Example large dataset\n",
        "# Perform operations on large_dataset (e.g., mean, std, etc.)\n"
      ],
      "metadata": {
        "colab": {
          "base_uri": "https://localhost:8080/",
          "height": 0
        },
        "id": "m_r64zMOV-fJ",
        "outputId": "26a10587-b3d5-47aa-92d1-6c2541a6b65c"
      },
      "execution_count": 27,
      "outputs": [
        {
          "output_type": "stream",
          "name": "stdout",
          "text": [
            "Correlation: 1.0\n",
            "Outliers: [50]\n",
            "50th Percentile: 12.0\n"
          ]
        }
      ]
    },
    {
      "cell_type": "markdown",
      "source": [
        "# SUMMARY\n",
        "This code snippet demonstrates correlation calculation, outlier detection using the IQR method, and percentile calculation. Replace the sample data with your actual data for meaningful results.\n",
        "\n",
        "NumPy's efficiency comes from its underlying implementation in C, allowing for optimized operations on large datasets.\n",
        "\n",
        "Execute the code to see the output and experiment with your own data."
      ],
      "metadata": {
        "id": "JjVDJoSXWHbL"
      }
    },
    {
      "cell_type": "markdown",
      "source": [
        "**CONCLUSION**\n"
      ],
      "metadata": {
        "id": "G1vtNkr4WT64"
      }
    },
    {
      "cell_type": "markdown",
      "source": [
        "**CONCLUSION OF USAGE OF NUMPY IN DATA SCIENCE**\n",
        " * This code adds a concluding print statement to your program, explaining the benefits of NumPy for data science professionals. It highlights NumPy's efficiency, vectorized operations, broadcasting, optimized functions, and memory efficiency as key advantages over traditional Python data structures.\n"
      ],
      "metadata": {
        "id": "4OMbz0LJWpFJ"
      }
    },
    {
      "cell_type": "markdown",
      "source": [
        "**EXAMPLES**\n",
        "NumPy is a foundational library for numerical computing in Python and is widely used in various fields. Here are some real-world examples:\n",
        "\n",
        "* **Machine Learning**: NumPy arrays are used to represent data and model parameters. Libraries like scikit-learn rely heavily on NumPy for efficient matrix operations, linear algebra, and data manipulation.\n",
        "\n",
        "* **Financial Analysis**: NumPy enables financial analysts to perform complex calculations on large datasets, such as risk analysis, portfolio optimization, and time series analysis.\n",
        "\n",
        "* **Scientific Research**: NumPy provides tools for signal processing, image analysis, and simulations in fields like physics, astronomy, and biology.\n",
        "\n",
        "These are just a few examples of how NumPy's capabilities are essential for tackling complex computational problems in various domains."
      ],
      "metadata": {
        "id": "1jRYIOyvXM9D"
      }
    },
    {
      "cell_type": "code",
      "source": [],
      "metadata": {
        "id": "ZMr-5wssXUnz"
      },
      "execution_count": null,
      "outputs": []
    },
    {
      "cell_type": "markdown",
      "source": [
        "# CONCLUSION\n",
        "This notebook has explored various aspects of NumPy arrays, including array creation, indexing, slicing, data types, shape manipulation, statistical functions, and data analysis techniques. NumPy's efficiency and versatility make it a crucial tool for data science professionals.\n",
        "\n",
        "Key takeaways:\n",
        "\n",
        "* NumPy arrays enable efficient storage and manipulation of numerical data.\n",
        "* NumPy provides a wide range of functions for mathematical and statistical operations.\n",
        "* NumPy facilitates data analysis tasks like correlation calculation, outlier detection, and percentile analysis.\n",
        "\n",
        "By leveraging NumPy's capabilities, data professionals can effectively handle and analyze large datasets, perform complex computations, and gain valuable insights from data."
      ],
      "metadata": {
        "id": "kVvn6Pz2YFO8"
      }
    },
    {
      "cell_type": "markdown",
      "source": [
        "**BENIFITS OF NUMPY IN  DATA SCIENCE**\n",
        "* **Efficiency:** NumPy arrays are more memory-efficient and faster for numerical operations than traditional Python lists, especially for large datasets. This is crucial for data analysis and machine learning tasks that involve extensive computations.\n",
        "* **Convenience:** NumPy offers a wide range of functions for array manipulation, mathematical operations, linear algebra, and statistical analysis. This simplifies data cleaning, transformation, and analysis.\n",
        "\n",
        "* **Broadcasting:** NumPy allows operations between arrays of different shapes, which can simplify code and make it more concise.\n",
        "\n",
        "* **Foundation for other libraries:** NumPy is a fundamental library for many other data science libraries, such as Pandas, Scikit-learn, and TensorFlow. Understanding NumPy is essential for effectively using these libraries.\n",
        "\n",
        "Overall, NumPy's efficiency, convenience, and broad applicability make it a cornerstone of the data science ecosystem."
      ],
      "metadata": {
        "id": "tiUt4B_SYct5"
      }
    },
    {
      "cell_type": "code",
      "source": [],
      "metadata": {
        "id": "e-q9i9lTZFqZ"
      },
      "execution_count": null,
      "outputs": []
    }
  ]
}